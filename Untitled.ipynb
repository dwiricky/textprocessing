{
 "cells": [
  {
   "cell_type": "code",
   "execution_count": 2,
   "id": "270c67a4",
   "metadata": {},
   "outputs": [],
   "source": [
    "import pandas as pd\n",
    "import mysql.connector\n",
    "import numpy as np"
   ]
  },
  {
   "cell_type": "code",
   "execution_count": 10,
   "id": "319b1055",
   "metadata": {},
   "outputs": [
    {
     "name": "stdout",
     "output_type": "stream",
     "text": [
      "Data inserted successfully!\n"
     ]
    }
   ],
   "source": [
    "# Load the Excel file\n",
    "file_path = 'review_ato_date_revisi.xlsx'\n",
    "df = pd.read_excel(file_path)\n",
    "\n",
    "# Replace NaN values with None (equivalent to NULL in SQL)\n",
    "df.replace({np.nan: None}, inplace=True)\n",
    "\n",
    "# Database connection\n",
    "db_connection = mysql.connector.connect(\n",
    "    host=\"localhost\",       # Update with your MySQL host\n",
    "    user=\"root\",   # Update with your MySQL username\n",
    "    password=\"\",# Update with your MySQL password\n",
    "    database=\"dummyai\" # Update with your database name\n",
    ")\n",
    "\n",
    "cursor = db_connection.cursor()\n",
    "\n",
    "# Insert data into the sentiment table\n",
    "for index, row in df.iterrows():\n",
    "    try:\n",
    "        sql = \"\"\"\n",
    "            INSERT INTO sentiment_ato (tempat_wisata, id_review, komentar, rating, label, bahasa, tokenized, date)\n",
    "            VALUES (%s, %s, %s, %s, %s, %s, %s, %s)\n",
    "        \"\"\"\n",
    "        cursor.execute(sql, (\n",
    "            row['attraction.name'],   \n",
    "            row['review.id'],\n",
    "            row['review.message'],\n",
    "            row['review.rating'],\n",
    "            row['label'],\n",
    "            row['review.language'],\n",
    "            row['tokenized_caption'],\n",
    "            row['review.date']\n",
    "        ))\n",
    "    except mysql.connector.Error as err:\n",
    "        print(f\"Error at row {index}: {err}\")\n",
    "        continue\n",
    "\n",
    "# Commit the transaction\n",
    "db_connection.commit()\n",
    "\n",
    "# Close the connection\n",
    "cursor.close()\n",
    "db_connection.close()\n",
    "\n",
    "print(\"Data inserted successfully!\")"
   ]
  },
  {
   "cell_type": "code",
   "execution_count": null,
   "id": "4727b01c",
   "metadata": {},
   "outputs": [],
   "source": []
  }
 ],
 "metadata": {
  "kernelspec": {
   "display_name": "Python 3 (ipykernel)",
   "language": "python",
   "name": "python3"
  },
  "language_info": {
   "codemirror_mode": {
    "name": "ipython",
    "version": 3
   },
   "file_extension": ".py",
   "mimetype": "text/x-python",
   "name": "python",
   "nbconvert_exporter": "python",
   "pygments_lexer": "ipython3",
   "version": "3.10.13"
  }
 },
 "nbformat": 4,
 "nbformat_minor": 5
}
