{
 "cells": [
  {
   "cell_type": "code",
   "execution_count": 13,
   "id": "6191f5b2",
   "metadata": {},
   "outputs": [
    {
     "name": "stdout",
     "output_type": "stream",
     "text": [
      "Data saved to reviews_indonesia_revisi_date.xlsx\n"
     ]
    }
   ],
   "source": [
    "import pandas as pd\n",
    "from datetime import datetime, timedelta\n",
    "import re\n",
    "\n",
    "# Load the provided Excel file\n",
    "file_path = 'review_indonesia_processed.xlsx'  # Replace with your file path\n",
    "df = pd.read_excel(file_path)\n",
    "\n",
    "# Convert the retrieval_date column to datetime\n",
    "df['retrieval_date'] = pd.to_datetime(df['retrieval_date'])\n",
    "\n",
    "# Function to convert relative date to absolute date\n",
    "def convert_relative_to_absolute(relative_date, retrieval_date):\n",
    "    if 'a week ago' in relative_date:\n",
    "        delta = timedelta(weeks=1)\n",
    "    elif 'a month ago' in relative_date:\n",
    "        delta = timedelta(days=30)  # approximate month as 30 days\n",
    "    elif 'a year ago' in relative_date:\n",
    "        delta = timedelta(days=365)  # approximate year as 365 days\n",
    "    else:\n",
    "        match = re.match(r\"(\\d+)\\s(\\w+)\", relative_date)\n",
    "        if not match:\n",
    "            return None  # or handle the unexpected format as needed\n",
    "        amount, unit = match.groups()\n",
    "        amount = int(amount)\n",
    "\n",
    "        if 'hour' in unit:\n",
    "            delta = timedelta(hours=amount)\n",
    "        elif 'day' in unit:\n",
    "            delta = timedelta(days=amount)\n",
    "        elif 'week' in unit:\n",
    "            delta = timedelta(weeks=amount)\n",
    "        elif 'month' in unit:\n",
    "            delta = timedelta(days=amount*30)  # approximate month as 30 days\n",
    "        elif 'year' in unit:\n",
    "            delta = timedelta(days=amount*365)  # approximate year as 365 days\n",
    "        else:\n",
    "            return None  # handle unexpected time units\n",
    "\n",
    "    absolute_date = retrieval_date - delta\n",
    "    return absolute_date\n",
    "\n",
    "# Apply the conversion function\n",
    "df['absolute_date'] = df.apply(lambda row: convert_relative_to_absolute(row['relative_date'], row['retrieval_date']), axis=1)\n",
    "\n",
    "# Save the DataFrame to a new Excel file\n",
    "output_file_path = 'reviews_indonesia_revisi_date.xlsx'  # Replace with your desired output file path\n",
    "df.to_excel(output_file_path, index=False)\n",
    "\n",
    "print(f\"Data saved to {output_file_path}\")\n"
   ]
  },
  {
   "cell_type": "code",
   "execution_count": 17,
   "id": "c7cfc8a6",
   "metadata": {},
   "outputs": [
    {
     "name": "stdout",
     "output_type": "stream",
     "text": [
      "Data saved to review_ato_date_revisi.xlsx\n"
     ]
    }
   ],
   "source": [
    "import pandas as pd\n",
    "\n",
    "# Load the provided Excel file\n",
    "file_path = 'review_ato_date.xlsx'  # Replace with your file path\n",
    "df = pd.read_excel(file_path)\n",
    "\n",
    "# Remove the character 'a' from the specified column\n",
    "df['review.date'] = df['review.date'].str.replace('T', ' ', regex=False)\n",
    "# Remove the last 6 characters from the specified column\n",
    "df['review.date'] = df['review.date'].str[:-6]\n",
    "\n",
    "# Save the modified DataFrame to a new Excel file\n",
    "output_file_path = 'review_ato_date_revisi.xlsx'  # Replace with your desired output file path\n",
    "df.to_excel(output_file_path, index=False)\n",
    "\n",
    "print(f\"Data saved to {output_file_path}\")\n"
   ]
  },
  {
   "cell_type": "code",
   "execution_count": null,
   "id": "1c16bc67",
   "metadata": {},
   "outputs": [],
   "source": []
  }
 ],
 "metadata": {
  "kernelspec": {
   "display_name": "Python 3 (ipykernel)",
   "language": "python",
   "name": "python3"
  },
  "language_info": {
   "codemirror_mode": {
    "name": "ipython",
    "version": 3
   },
   "file_extension": ".py",
   "mimetype": "text/x-python",
   "name": "python",
   "nbconvert_exporter": "python",
   "pygments_lexer": "ipython3",
   "version": "3.10.13"
  }
 },
 "nbformat": 4,
 "nbformat_minor": 5
}
